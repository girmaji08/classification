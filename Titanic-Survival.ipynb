{
  "cells": [
    {
      "metadata": {
        "_cell_guid": "79c7e3d0-c299-4dcb-8224-4455121ee9b0",
        "_uuid": "d629ff2d2480ee46fbb7e2d37f6b5fab8052498a",
        "collapsed": true
      },
      "cell_type": "markdown",
      "source": "# Titanic survival prediction\n"
    },
    {
      "metadata": {
        "_cell_guid": "4c8d7bfa-1c77-4fa2-9bf4-5db74a3adf92",
        "_uuid": "0b72fec200ba619457272cc8471bc8fb15d835fc",
        "trusted": true,
        "collapsed": true
      },
      "cell_type": "code",
      "source": "import numpy as np\nimport pandas as pd\nimport re  # String manipulation\n# For Data visualization\nimport seaborn as sns\nimport matplotlib.pyplot as plt\nimport plotly.offline as py\nimport plotly.graph_objs as go\nimport plotly.figure_factory as ff\npy.init_notebook_mode(connected=True)\n#Missing values\nimport missingno as msno\n# Feature Scaling\nfrom sklearn.preprocessing import MinMaxScaler\n# Train Test split\nfrom sklearn.model_selection import train_test_split\n# Cross validation\nfrom sklearn.model_selection import cross_val_score\n# To build models\nfrom sklearn.ensemble import RandomForestClassifier\nfrom sklearn.tree import DecisionTreeClassifier\nfrom sklearn.linear_model import LogisticRegression\nfrom sklearn.ensemble import AdaBoostClassifier\nimport xgboost as xgb\n# To evaluate models\nfrom sklearn.metrics import roc_auc_score\nfrom sklearn import metrics\n\n%matplotlib inline",
      "execution_count": 132,
      "outputs": []
    },
    {
      "metadata": {
        "_cell_guid": "293b3e5e-3c51-48d4-afa3-cd7d7092a7f5",
        "_uuid": "ebc5417a2abc5bf35609ea4b85a8e77dc5b49b67",
        "collapsed": true,
        "trusted": true
      },
      "cell_type": "code",
      "source": "train = pd.read_csv('../input/train.csv')\ntest = pd.read_csv('../input/test.csv')",
      "execution_count": 133,
      "outputs": []
    },
    {
      "metadata": {
        "_cell_guid": "4f4c63bd-50ad-490a-aca6-7c182ac69ca7",
        "_uuid": "04233cebb3ee0befd8ec0cfce0add2e9bc170fe1",
        "collapsed": true,
        "trusted": true
      },
      "cell_type": "code",
      "source": "#Saving a copy of the train and test set\noriginal_data_train=train\noriginal_data_test=test\n",
      "execution_count": 134,
      "outputs": []
    },
    {
      "metadata": {
        "_cell_guid": "3a852358-daf2-4195-8246-6f8c930885c9",
        "_uuid": "8321903a86b25ada2bc71d2176a29e74daa80a8a",
        "trusted": true,
        "collapsed": true
      },
      "cell_type": "code",
      "source": "print(train.columns.tolist())",
      "execution_count": 235,
      "outputs": []
    },
    {
      "metadata": {
        "_cell_guid": "fcdd9cd1-015b-4998-afb3-f79e48f30ec2",
        "_uuid": "7c88fc8933dbd503a03865a331c33ae0d0024458",
        "trusted": true,
        "collapsed": true
      },
      "cell_type": "code",
      "source": "train.head()",
      "execution_count": 236,
      "outputs": []
    },
    {
      "metadata": {
        "trusted": true,
        "_uuid": "bae44cf691609101fac7d29316440e07fdcc0d83",
        "collapsed": true
      },
      "cell_type": "code",
      "source": "test.head()",
      "execution_count": 237,
      "outputs": []
    },
    {
      "metadata": {
        "_cell_guid": "9903ccca-0e51-4934-801c-b08ea9138dee",
        "_uuid": "21a21e0e87fcd6685fa05a095fd9b8d68879035a",
        "trusted": true,
        "collapsed": true
      },
      "cell_type": "code",
      "source": "train.info()\nprint('_'*40)\ntest.info()",
      "execution_count": 4,
      "outputs": []
    },
    {
      "metadata": {
        "_cell_guid": "7796d2c1-f550-4d22-9db3-92ebef8e1d9c",
        "_uuid": "eb5bfa16f0f07641b699a7d2350ef1afa274bb4f",
        "trusted": true,
        "collapsed": true
      },
      "cell_type": "code",
      "source": "print('No of rows and columns in training set ',train.shape)\nprint('No of rows and columns in testing set ',test.shape)\n",
      "execution_count": 43,
      "outputs": []
    },
    {
      "metadata": {
        "_cell_guid": "dfcb522e-9af1-4283-88ed-d265670a49c2",
        "_uuid": "b27ff219d897277d94bd8f371d95b0fd40396d73",
        "trusted": true,
        "collapsed": true
      },
      "cell_type": "code",
      "source": "# Numerical variables description\ntrain.select_dtypes(['number']).describe()",
      "execution_count": 8,
      "outputs": []
    },
    {
      "metadata": {
        "_uuid": "1c6060e4e45b24c1950f464baab1f927d3f453b4"
      },
      "cell_type": "markdown",
      "source": "*   **There are 3 discrete variables: Pclass, SibSp, Parch.**\n*   **There are 2 continous variables: Age, Fare.**\n*   **There is one binary variable : Survived.(Target variable).**"
    },
    {
      "metadata": {
        "_cell_guid": "277b8ac1-ff43-4221-a882-cc7ce7c531f1",
        "_uuid": "d88eaa42bc634c6d0b952b4c7877f6fdb5ab34e3",
        "trusted": true,
        "collapsed": true
      },
      "cell_type": "code",
      "source": "# Categorical variables description\ntrain.select_dtypes(['object']).describe()",
      "execution_count": 9,
      "outputs": []
    },
    {
      "metadata": {
        "_uuid": "a3171fa66d664086bfea8998957d8962728311ef"
      },
      "cell_type": "markdown",
      "source": "* **There are 2 mixed categorical variabes: Cabin, Ticket.**\n"
    },
    {
      "metadata": {
        "_uuid": "0b1640ecdb941b61e52e5a7149a07152e218ab2c"
      },
      "cell_type": "markdown",
      "source": "### Types of variables summary:\n* ** 5 categorical variables: from them 2 are mixed type of variables (numbers and strings)**\n* **7 numerical variables: 3 discrete, 2 continious, 1 Id, and 1 binary target**"
    },
    {
      "metadata": {
        "_cell_guid": "8a02e3cd-4577-4d91-a330-174b7b78eca8",
        "_uuid": "c417ae55fd296ede294ef4d153f594b36653e000"
      },
      "cell_type": "markdown",
      "source": "# Data Visualization"
    },
    {
      "metadata": {
        "_cell_guid": "7aebb29f-e770-4486-ba61-574309d177c9",
        "_uuid": "02d670ae7a736e1c1e25e4166b4cb7646477f1a4",
        "trusted": true,
        "collapsed": true
      },
      "cell_type": "code",
      "source": "#g=sns.FacetGrid(train,col='Survived')\n#g.map(plt.hist,'Age',bins=20);\n\nfig=ff.create_facet_grid(\n                        train,\n                        x='Age',\n                        #y='Survived',\n                        trace_type='histogram',\n                        facet_col='Survived',\n                        facet_col_labels='name',\n                        width=750,\n                        height=750,\n                        binsize=4\n                       )\n\npy.iplot(fig)",
      "execution_count": 11,
      "outputs": []
    },
    {
      "metadata": {
        "_cell_guid": "4eed2cd9-39da-4e81-a782-28302da8a4f6",
        "_uuid": "ba73a6cbff941e42d099e87defd6e4ea0b25b3d6"
      },
      "cell_type": "markdown",
      "source": "* ** Infants survived**\n*  **Large number of Young people of age group 15-25 did not survive**\n* ** Passengers of age 80 survived**\n* **Most passengers are in age group 15-40 (Young and middle aged)**"
    },
    {
      "metadata": {
        "_cell_guid": "48b0b2b0-91b8-465a-9fab-c701ecf66b2c",
        "_uuid": "80825d426649302418b85cc33311c796815e5fca",
        "trusted": true,
        "collapsed": true
      },
      "cell_type": "code",
      "source": "fig=ff.create_facet_grid(\n                        train,\n                        x='Age',\n                        #y='Survived',\n                        trace_type='histogram',\n                        facet_col='Survived',\n                        facet_row='Pclass',\n                        #scales='free',\n                        width=1000,\n                        height=1000,\n                        facet_col_labels='name',\n                        facet_row_labels='name',\n                        histnorm='probability',\n                        xaxis=dict(title='Age'),\n                        \n                        #facet_col_labels='name'\n                       )\n\npy.iplot(fig)",
      "execution_count": 12,
      "outputs": []
    },
    {
      "metadata": {
        "_cell_guid": "fe7896da-bc48-4fef-908b-540a0d329d06",
        "_uuid": "f2ef43d73021e4b38d7b821616939b5b98fe51ae",
        "collapsed": true
      },
      "cell_type": "markdown",
      "source": "*  **Most passengers in Pclass=1 survived. Most passengers in Pclass=3 did not survive**\n*  **Age distribution is different among the classes**\n* ** Infants in Pclass=2 & 3 mostly survived **"
    },
    {
      "metadata": {
        "_cell_guid": "645e5499-391a-4db2-bf1c-de820eb054b0",
        "_uuid": "f546a8828945012f178a98382f145e0aefcca5a2",
        "trusted": true,
        "collapsed": true
      },
      "cell_type": "code",
      "source": "g=sns.FacetGrid(train,row='Embarked',hue='Sex')\ng.map(sns.pointplot,'Pclass','Survived')\ng.add_legend();",
      "execution_count": 21,
      "outputs": []
    },
    {
      "metadata": {
        "_cell_guid": "802db961-0e1a-4bfe-93e7-9fcd7a9c404a",
        "_uuid": "3ff752f174b76addafaec287e06e7d6b86c6d05b",
        "collapsed": true
      },
      "cell_type": "markdown",
      "source": "*  **Females have better survival in ports S,Q.**\n*  **Males have better survival in port C.**\n*  **Pclass=3 has less survival among females in ports S,Q **\n* ** Increasing survival with Pclass among male in port Q but a decreasing trend with PClass in other ports.**"
    },
    {
      "metadata": {
        "_cell_guid": "a7f70cc2-1626-431e-8348-32dc8e923c7b",
        "_uuid": "8772afb9e7b731687415575fd2a9f736efa9a14e",
        "trusted": true,
        "collapsed": true
      },
      "cell_type": "code",
      "source": "grid = sns.FacetGrid(train, row='Embarked', col='Survived')\ngrid.map(sns.barplot, 'Sex', 'Fare')\ngrid.add_legend();",
      "execution_count": 22,
      "outputs": []
    },
    {
      "metadata": {
        "_cell_guid": "01c9e88a-0096-4e51-88a6-b85ce9b117b8",
        "_uuid": "5511cece79d45750bd2311dd5bcae72b1ace2e36"
      },
      "cell_type": "markdown",
      "source": "*  **Higher fare passengers have better survival**\n*  **Survival rates change with port of embarkation.**"
    },
    {
      "metadata": {
        "_cell_guid": "ce333822-bf4c-4d05-97b7-f2c44246a108",
        "_uuid": "bec5cebad6aa841264c331c76a366aca2fcc5dfc",
        "trusted": true,
        "collapsed": true
      },
      "cell_type": "code",
      "source": "# Heat maps/ correlation map\n\nplt.figure(figsize=(20,20))\nplt.title(\"Correlation of features\")\nsns.heatmap(train.corr(),linewidths=0.1,vmax=1.0,linecolor='black',annot=True,square=True);\n",
      "execution_count": 23,
      "outputs": []
    },
    {
      "metadata": {
        "_uuid": "7213871f1c350b15746840e6038c010892438dcb"
      },
      "cell_type": "markdown",
      "source": "* **SibSp and Parch have strong correlation. So one of the features or a engineered feature should be created.**"
    },
    {
      "metadata": {
        "_cell_guid": "3213811c-5a59-42d2-9620-09f98222a1f7",
        "_uuid": "15d6ca1312d5ee31c1d7b9f8f051cce7cc0f3a19",
        "trusted": true,
        "collapsed": true
      },
      "cell_type": "code",
      "source": "grid = sns.FacetGrid(train, row='Sex',hue='Survived')\ngrid.map(sns.distplot, 'Age','Survived',hist=False,rug=False)\ngrid.add_legend();",
      "execution_count": 24,
      "outputs": []
    },
    {
      "metadata": {
        "_cell_guid": "76152e59-1f2f-4416-9e55-690036b59a7a",
        "_uuid": "3c4d0d0d495cb498c01ce266cfa4eb55f28fb00a",
        "trusted": true,
        "collapsed": true
      },
      "cell_type": "code",
      "source": "grid=sns.FacetGrid(train)\ngrid.map(sns.barplot,'Embarked','Survived');\n",
      "execution_count": 25,
      "outputs": []
    },
    {
      "metadata": {
        "_cell_guid": "87c30905-52fd-4700-9980-d963eb7e7a76",
        "_uuid": "488d3d45be0d959f429b7b4bbb10d88a422151b8",
        "trusted": true,
        "collapsed": true
      },
      "cell_type": "code",
      "source": "trace=go.Histogram(\n             x=train.SibSp,\n             y=train.Survived\n             \n)\nlayout=go.Layout(\n                 title='SibSp Vs Survived',\n                xaxis=dict(title='SibSp'),\n                yaxis=dict(title='Survived')\n)\ndata=[trace]\nfig=go.Figure(data=data,layout=layout)\npy.iplot(fig)\n",
      "execution_count": 26,
      "outputs": []
    },
    {
      "metadata": {
        "_cell_guid": "b95c66cb-93e0-467b-994a-b3e22cf3103c",
        "_uuid": "123f9224b47aa8663458fd4fda90170802f3dee9",
        "trusted": true,
        "collapsed": true
      },
      "cell_type": "code",
      "source": "trace=go.Histogram(\n             x=train.Parch,\n             y=train.Survived\n             \n)\nlayout=go.Layout(\n                 title='Parch Vs Survived',\n                xaxis=dict(title='Parch'),\n                yaxis=dict(title='Survived')\n)\ndata=[trace]\nfig=go.Figure(data=data,layout=layout)\npy.iplot(fig)",
      "execution_count": 27,
      "outputs": []
    },
    {
      "metadata": {
        "_cell_guid": "11e761bb-ae34-4b78-9c3e-501f2570881d",
        "_uuid": "c0ba1f5b9f1f7109ab43d749dcc2e797d06de4ea",
        "trusted": true,
        "collapsed": true
      },
      "cell_type": "code",
      "source": "fig=ff.create_facet_grid(\n                        train,\n                        x='Embarked',\n                        y='Survived',\n                        trace_type='histogram',\n                        color_name='Sex',\n                        #scales='free',\n                        #width=1000,\n                        #height=1000,\n                        histfunc='avg'\n                        #xaxis=dict(title='Age'),\n \n                        #facet_col_labels='name'\n                       )\n\npy.iplot(fig)",
      "execution_count": 28,
      "outputs": []
    },
    {
      "metadata": {
        "_cell_guid": "ddf08248-69a2-4862-989c-befe511dd3cd",
        "_uuid": "54c82d0d02f8f73cd299e7feaebf3c90fe3c224d",
        "collapsed": true,
        "trusted": true
      },
      "cell_type": "code",
      "source": "train_transformed=train",
      "execution_count": null,
      "outputs": []
    },
    {
      "metadata": {
        "_cell_guid": "e9b973d1-9cda-4228-a329-82be05f8f264",
        "_uuid": "1d11129b49f88d62b8133da5b868537cae39287a",
        "collapsed": true,
        "trusted": true
      },
      "cell_type": "code",
      "source": "train_transformed['Sex']=train_transformed['Sex'].map({'female':0,'male':1})",
      "execution_count": null,
      "outputs": []
    },
    {
      "metadata": {
        "_cell_guid": "03b2b0da-805e-427d-88be-54050493c1ad",
        "_uuid": "1749114638cf520d27068cd6fb21caed6e14a0ae",
        "collapsed": true,
        "trusted": true
      },
      "cell_type": "code",
      "source": "train_transformed['Embarked']=train_transformed['Embarked'].fillna('S')",
      "execution_count": null,
      "outputs": []
    },
    {
      "metadata": {
        "_cell_guid": "571c2513-42da-4d21-b96a-096df9fb8448",
        "_uuid": "f1c33f732c40fba78fb4c8c153adef7b62aba1f4",
        "collapsed": true,
        "trusted": true
      },
      "cell_type": "code",
      "source": "train_transformed['Embarked'].isnull().sum()",
      "execution_count": null,
      "outputs": []
    },
    {
      "metadata": {
        "_cell_guid": "c7360fb2-be6d-443e-b8dd-c0b468149fd6",
        "_uuid": "0a579e856e007c5c63a72df6858addb8bb2a71c1",
        "collapsed": true,
        "trusted": true
      },
      "cell_type": "code",
      "source": "train_transformed['Embarked']=train_transformed['Embarked'].map({'C':0,'S':1,'Q':2})",
      "execution_count": null,
      "outputs": []
    },
    {
      "metadata": {
        "_cell_guid": "51d9ffb4-ee67-4150-8915-9b292ff5617e",
        "_uuid": "0bea4ac44f06a8c895aee3dbb687fbf3321d6f53",
        "collapsed": true,
        "trusted": true
      },
      "cell_type": "code",
      "source": "train_transformed=train_transformed.drop(['PassengerId','Ticket','Cabin','Name'],axis=1)",
      "execution_count": null,
      "outputs": []
    },
    {
      "metadata": {
        "_cell_guid": "b004c473-bbe3-4dba-92cc-1411475bf58a",
        "_uuid": "9db393778cf2a18e3c8d7efe67ecc482fe40b567",
        "collapsed": true,
        "trusted": true
      },
      "cell_type": "code",
      "source": "train_transformed.head()",
      "execution_count": null,
      "outputs": []
    },
    {
      "metadata": {
        "_cell_guid": "5f2aa8b1-6c99-4a7c-8b14-57ec2f2d0987",
        "_uuid": "d285853ead2228ed24e05ee63bd7bcbc947d8863",
        "collapsed": true,
        "scrolled": true,
        "trusted": true
      },
      "cell_type": "code",
      "source": "train_transformed['New_survived']=train_transformed['Survived'].astype(object).map({0:'Not Survived',1:'Survived'})\n\nfig=ff.create_scatterplotmatrix(train_transformed,diag='histogram',index='New_survived',colormap_type='cat',height=1200, width=1200)\npy.iplot(fig)\n",
      "execution_count": null,
      "outputs": []
    },
    {
      "metadata": {
        "_cell_guid": "7b7a4dcf-7f89-4758-9029-d2f27a632420",
        "_uuid": "c32444963697b91f25e174eb8f2a0d931a31d853",
        "collapsed": true
      },
      "cell_type": "markdown",
      "source": "## Missing values imputation"
    },
    {
      "metadata": {
        "_cell_guid": "1b5e40f0-e78d-4b89-a5f8-e090dccf8c5d",
        "_uuid": "401d240e5049b9546950cf7fc590bd87310ac0c2",
        "trusted": true,
        "collapsed": true
      },
      "cell_type": "code",
      "source": "msno.matrix(train,figsize=(10,10))",
      "execution_count": 31,
      "outputs": []
    },
    {
      "metadata": {
        "_cell_guid": "dcb8cb44-ec7a-48ae-affe-9a0940749e96",
        "_uuid": "54cfd175edb139a83146a22f304ff858d441cd45",
        "trusted": true,
        "collapsed": true
      },
      "cell_type": "code",
      "source": "msno.matrix(test,figsize=(10,10))",
      "execution_count": 30,
      "outputs": []
    },
    {
      "metadata": {
        "_cell_guid": "7b3701e0-dd4c-47a9-b97d-3dbba219725b",
        "_uuid": "d45b221794cc2eb7111ffd8be98213b2c37e0206",
        "trusted": true,
        "collapsed": true
      },
      "cell_type": "code",
      "source": "# Training data missing values percentage\ntrain.isnull().mean().sort_values(ascending=False)\n",
      "execution_count": 239,
      "outputs": []
    },
    {
      "metadata": {
        "_uuid": "cf50941d6cf898f4f973213dcd553c46b02daf4f"
      },
      "cell_type": "markdown",
      "source": "* **Three of the variables contain missing data, Age (~20%), Cabin (~77%) and Embarked (< 1%)**"
    },
    {
      "metadata": {
        "_cell_guid": "097a552e-8f48-4160-b3cd-c4041a042311",
        "_uuid": "a5be179890579e189cb16b2aa72b3840a2e622a1",
        "trusted": true,
        "collapsed": true
      },
      "cell_type": "code",
      "source": "# Testing data missing values percentage\ntest.isnull().mean().sort_values(ascending=False)",
      "execution_count": 240,
      "outputs": []
    },
    {
      "metadata": {
        "_cell_guid": "623b09e6-83db-4fa1-895d-4d69fb9937d4",
        "_uuid": "162d702878afbccd91fffc63f01c1688a008cd48"
      },
      "cell_type": "markdown",
      "source": "* **Three of the variables contain missing data, Age (~20%), Cabin (~78%) and Fare (< 1%)**"
    },
    {
      "metadata": {
        "_uuid": "841d06a4ec0bd241fd5d24cc7a85000cf320db5d"
      },
      "cell_type": "markdown",
      "source": "## Outliers"
    },
    {
      "metadata": {
        "_uuid": "390d21c87c0c6cc9534cc2203a10427eb1d5c606"
      },
      "cell_type": "markdown",
      "source": "### Outliers in continuous variables"
    },
    {
      "metadata": {
        "trusted": true,
        "_uuid": "c009316064caf830a0b659d0adc90eaabdc787bd",
        "collapsed": true
      },
      "cell_type": "code",
      "source": "# Visualizing outliers in continuous variables Fare and Age\n\nplt.figure(figsize=(15,6))\nplt.subplot(1, 2, 1)\nfig =train.boxplot(column='Age')\nfig.set_title('')\nfig.set_ylabel('Age')\n\nplt.subplot(1, 2, 2)\nfig = train.boxplot(column='Fare')\nfig.set_title('')\nfig.set_ylabel('Fare')",
      "execution_count": 6,
      "outputs": []
    },
    {
      "metadata": {
        "trusted": true,
        "_uuid": "1d23cc9f0160465daafb8b0458732a5bf3646c3e",
        "collapsed": true
      },
      "cell_type": "code",
      "source": "# Plotting the distributions of the variables Fare and Age\n\n\nplt.figure(figsize=(15,6))\nplt.subplot(1, 2, 1)\nfig = train.Age.hist(bins=20)\nfig.set_ylabel('Number of passengers')\nfig.set_xlabel('Age')\n\nplt.subplot(1, 2, 2)\nfig = train.Fare.hist(bins=20)\nfig.set_ylabel('Number of passengers')\nfig.set_xlabel('Fare')",
      "execution_count": 7,
      "outputs": []
    },
    {
      "metadata": {
        "_uuid": "40a742a46e65554ac6321d4ff9db27f37ffb963f"
      },
      "cell_type": "markdown",
      "source": "* **Age variable is near Gaussian but Fare variable is Skewed(Right)**\n*  **So we will use normal assumption to detect the outliers for Age variable and interquartile range to find outliers**"
    },
    {
      "metadata": {
        "trusted": true,
        "_uuid": "c8d941ef07042ac029b2648465239d206619acfc",
        "collapsed": true
      },
      "cell_type": "code",
      "source": "# find outliers\n\n# Age\nUpper_boundary = train.Age.mean() + 3* train.Age.std()\nLower_boundary = train.Age.mean() - 3* train.Age.std()\nprint('Age outliers are values < {lowerboundary} or > {upperboundary}'.format(lowerboundary=Lower_boundary, upperboundary=Upper_boundary))\n\n# Fare\nIQR = train.Fare.quantile(0.75) - train.Fare.quantile(0.25)\nLower_bound = train.Fare.quantile(0.25) - (IQR * 3)\nUpper_bound = train.Fare.quantile(0.75) + (IQR * 3)\nprint('Fare outliers are values < {lowerboundary} or > {upperboundary}'.format(lowerboundary=Lower_bound, upperboundary=Upper_bound))\n",
      "execution_count": 241,
      "outputs": []
    },
    {
      "metadata": {
        "_uuid": "9afd78d87421845de3b00d42c1b75c4ca8d9ce42"
      },
      "cell_type": "markdown",
      "source": "### Outliers in discrete variables"
    },
    {
      "metadata": {
        "trusted": true,
        "_uuid": "181d6b218f8f6b6f88aec4bba7e892db9e61fb4e",
        "collapsed": true
      },
      "cell_type": "code",
      "source": "# outlies in discrete variables\nfor var in ['Pclass',  'SibSp', 'Parch']:\n    print(train[var].value_counts() / np.float(len(train)))\n    print()",
      "execution_count": 242,
      "outputs": []
    },
    {
      "metadata": {
        "_uuid": "cf7f0dd59fdba16a4c50dc9360d2c3578440d749"
      },
      "cell_type": "markdown",
      "source": "* **We will take percentage values less than 1% as outliers in the above discrete variables.**\n* ** Pclass doesn't have outliers**\n* **SibSp values greater than 4(values 5,8) are outliers**\n* **Parch values greater than 2 are outliers**"
    },
    {
      "metadata": {
        "trusted": true,
        "_uuid": "d43a1167382274b6041cfd9a4b549b2c96e6ee1f",
        "collapsed": true
      },
      "cell_type": "code",
      "source": "# Cardinality of Categorical variables\ncategorical = [var for var in train.columns if train[var].dtype=='O']\nfor var in categorical:\n    print(var, ' contains ', len(train[var].unique()), ' labels')",
      "execution_count": 243,
      "outputs": []
    },
    {
      "metadata": {
        "trusted": true,
        "collapsed": true,
        "_uuid": "ce6a6adf61806c401155ded9c66dd9ce2defcb94"
      },
      "cell_type": "markdown",
      "source": "* **Name, Ticket, Cabin variables should be engineered to extract relevant useful information. They have high cardinality and should be dealt with.**"
    },
    {
      "metadata": {
        "trusted": true,
        "_uuid": "54d60b8db45439a111d8258191c75865023454ae",
        "collapsed": true
      },
      "cell_type": "code",
      "source": "# Cabin\ntrain['Cabin_numerical'] = train.Cabin.str.extract('(\\d+)') # extracts number from string\ntrain['Cabin_numerical'] = train['Cabin_numerical'].astype('float') # parses the above variable to float type\n\ntrain['Cabin_categorical'] = train['Cabin'].str[0] # captures first letter of string (the letter of the cabin)\n\n# same for Test set\ntest['Cabin_numerical'] = test.Cabin.str.extract('(\\d+)')\ntest['Cabin_numerical'] = test['Cabin_numerical'].astype('float')\n\ntest['Cabin_categorical'] = test['Cabin'].str[0]\n\ntrain[['Cabin', 'Cabin_numerical', 'Cabin_categorical']].head()",
      "execution_count": 135,
      "outputs": []
    },
    {
      "metadata": {
        "trusted": true,
        "_uuid": "80bd6f5125768346abe3b812c3c5fd720ba46678",
        "_kg_hide-output": true,
        "collapsed": true
      },
      "cell_type": "code",
      "source": "# drop the original variable\ntrain.drop(labels='Cabin', inplace=True, axis=1)\ntest.drop(labels='Cabin', inplace=True, axis=1)",
      "execution_count": 136,
      "outputs": []
    },
    {
      "metadata": {
        "trusted": true,
        "_uuid": "06e4419cbe0d4f219aeb046d8d0f633d60d2ed17",
        "collapsed": true
      },
      "cell_type": "code",
      "source": "#  Ticket\n# extract the last bit of ticket as number\ntrain['Ticket_numerical'] = train.Ticket.apply(lambda s: s.split()[-1])\ntrain['Ticket_numerical'] = np.where(train.Ticket_numerical.str.isdigit(), train.Ticket_numerical, np.nan)\ntrain['Ticket_numerical'] = train['Ticket_numerical'].astype('float')\n\n# extract the first part of ticket as category\ntrain['Ticket_categorical'] = train.Ticket.apply(lambda s: s.split()[0])\ntrain['Ticket_categorical'] = np.where(train.Ticket_categorical.str.isdigit(), np.nan, train.Ticket_categorical)\n\n# Same for Test set\ntest['Ticket_numerical'] = test.Ticket.apply(lambda s: s.split()[-1])\ntest['Ticket_numerical'] = np.where(test.Ticket_numerical.str.isdigit(), test.Ticket_numerical, np.nan)\ntest['Ticket_numerical'] = test['Ticket_numerical'].astype('float')\n\n# extract the first part of ticket as category\ntest['Ticket_categorical'] = test.Ticket.apply(lambda s: s.split()[0])\ntest['Ticket_categorical'] = np.where(test.Ticket_categorical.str.isdigit(), np.nan, test.Ticket_categorical)\n\ntrain[['Ticket', 'Ticket_numerical', 'Ticket_categorical']].head()",
      "execution_count": 137,
      "outputs": []
    },
    {
      "metadata": {
        "trusted": true,
        "_uuid": "a54dd8c251202610af985cc50dc711a5a0a97fed",
        "collapsed": true
      },
      "cell_type": "code",
      "source": "train.Ticket_categorical.unique()",
      "execution_count": 138,
      "outputs": []
    },
    {
      "metadata": {
        "trusted": true,
        "_uuid": "4e9539310bcec3dd94dc251d951e51604fddb95f",
        "collapsed": true
      },
      "cell_type": "code",
      "source": "print(\"No of labels in Ticket_Categorical variable is \",len(train.Ticket_categorical.unique()))",
      "execution_count": 139,
      "outputs": []
    },
    {
      "metadata": {
        "trusted": true,
        "_uuid": "ab4d32e30d425beb892cdf2c465258dcd7ba3485",
        "_kg_hide-output": false,
        "collapsed": true
      },
      "cell_type": "code",
      "source": "# remove non letter characters from string as the above labels are similar apart from punctuation marks\ntext = train.Ticket_categorical.apply(lambda x: re.sub(\"[^a-zA-Z]\", '', str(x)))\n\n# to visualise the output and compare with input\npd.concat([text, train.Ticket_categorical], axis=1).head(100)\n",
      "execution_count": 140,
      "outputs": []
    },
    {
      "metadata": {
        "trusted": true,
        "_uuid": "aa0d1fd8ce3ab0ddaa6f1c4b2c92aee597624710",
        "collapsed": true
      },
      "cell_type": "code",
      "source": "text=text.str.upper()\ntext.unique()",
      "execution_count": 141,
      "outputs": []
    },
    {
      "metadata": {
        "trusted": true,
        "_uuid": "cef9a1ba96c8eb70ba0eb8e5b9e72396bd749bb7",
        "collapsed": true
      },
      "cell_type": "code",
      "source": "print(\"No of labels in Ticket_Categorical variable is \",len(text.unique()))",
      "execution_count": 143,
      "outputs": []
    },
    {
      "metadata": {
        "trusted": true,
        "_uuid": "a19a50065ecfbb9d277f1fc3d3c4f1cc10016e5f",
        "collapsed": true
      },
      "cell_type": "code",
      "source": "train[\"Ticket_categorical\"]= text\n",
      "execution_count": 144,
      "outputs": []
    },
    {
      "metadata": {
        "trusted": true,
        "collapsed": true,
        "_uuid": "900063132fc68910d4a90687de433284df1a62b9"
      },
      "cell_type": "code",
      "source": "test['Ticket_categorical'] = test.Ticket_categorical.apply(lambda x: re.sub(\"[^a-zA-Z]\", '', str(x)))\ntest['Ticket_categorical'] = test['Ticket_categorical'].str.upper()",
      "execution_count": 145,
      "outputs": []
    },
    {
      "metadata": {
        "trusted": true,
        "collapsed": true,
        "_uuid": "1b8c1d2484f2851c3f96fac7da3d6ac2da8bbe83"
      },
      "cell_type": "code",
      "source": "# drop the original Ticket variable\ntrain.drop(labels='Ticket',inplace=True,axis=1)\ntest.drop(labels='Ticket', inplace=True, axis=1)",
      "execution_count": 146,
      "outputs": []
    },
    {
      "metadata": {
        "trusted": true,
        "collapsed": true,
        "_uuid": "2b5ce90dea8b61de635d3e56a137cb90cb7b0070"
      },
      "cell_type": "code",
      "source": "#Title=pd.DataFrame()\nTitle=train.Name.map( lambda name: name.split( ',' )[1].split( '.' )[0].strip() )\n",
      "execution_count": 147,
      "outputs": []
    },
    {
      "metadata": {
        "trusted": true,
        "collapsed": true,
        "_uuid": "80a2267e3e23a549b43d306ec6da19cbfbb8ec60"
      },
      "cell_type": "code",
      "source": "Title_Dictionary = {\n                    \"Capt\":       \"Officer\",\n                    \"Col\":        \"Officer\",\n                    \"Major\":      \"Officer\",\n                    \"Jonkheer\":   \"Royalty\",\n                    \"Don\":        \"Royalty\",\n                    \"Sir\" :       \"Royalty\",\n                    \"Dr\":         \"Officer\",\n                    \"Rev\":        \"Officer\",\n                    \"the Countess\":\"Royalty\",\n                    \"Dona\":       \"Royalty\",\n                    \"Mme\":        \"Mrs\",\n                    \"Mlle\":       \"Miss\",\n                    \"Ms\":         \"Mrs\",\n                    \"Mr\" :        \"Mr\",\n                    \"Mrs\" :       \"Mrs\",\n                    \"Miss\" :      \"Miss\",\n                    \"Master\" :    \"Master\",\n                    \"Lady\" :      \"Royalty\"\n\n                    }",
      "execution_count": 148,
      "outputs": []
    },
    {
      "metadata": {
        "trusted": true,
        "_uuid": "03af1bf1f0e01ef97624e5b9c7ad5c656c38ceb8",
        "collapsed": true
      },
      "cell_type": "code",
      "source": "Title= Title.map( Title_Dictionary )",
      "execution_count": 149,
      "outputs": []
    },
    {
      "metadata": {
        "trusted": true,
        "collapsed": true,
        "_uuid": "f7d597b04c9516de17def87143fed847af63957b"
      },
      "cell_type": "code",
      "source": "Title2=test.Name.map(lambda name: name.split( ',' )[1].split( '.' )[0].strip())",
      "execution_count": 150,
      "outputs": []
    },
    {
      "metadata": {
        "trusted": true,
        "collapsed": true,
        "_uuid": "dc6dd6ea41e2abf7996d0c246c63fe58ef660a22"
      },
      "cell_type": "code",
      "source": "Title2= Title2.map( Title_Dictionary )",
      "execution_count": 151,
      "outputs": []
    },
    {
      "metadata": {
        "trusted": true,
        "collapsed": true,
        "_uuid": "9f25a33e8e35ed9b87f5b01620aaac39b4facaf8"
      },
      "cell_type": "code",
      "source": "# Title column that contains the labels taken from the Name variable\ntrain['Title']=Title\ntest['Title']=Title2",
      "execution_count": 152,
      "outputs": []
    },
    {
      "metadata": {
        "trusted": true,
        "_uuid": "b5cbd62c2773fe015ba41afc3265994cce80f9fb",
        "collapsed": true
      },
      "cell_type": "code",
      "source": "train.Title.unique()",
      "execution_count": 153,
      "outputs": []
    },
    {
      "metadata": {
        "trusted": true,
        "_uuid": "e677a211738ff2db20d14873112670a7cf25fd1b",
        "collapsed": true
      },
      "cell_type": "code",
      "source": "test.Title.unique()",
      "execution_count": 154,
      "outputs": []
    },
    {
      "metadata": {
        "trusted": true,
        "collapsed": true,
        "_uuid": "2b37a4344c6d6cdc3ebfcbb8ac19fb60847045a1"
      },
      "cell_type": "code",
      "source": "# dropping the Name variable\ntrain.drop(labels='Name',inplace=True,axis=1)\ntest.drop(labels='Name',inplace=True,axis=1)",
      "execution_count": 155,
      "outputs": []
    },
    {
      "metadata": {
        "trusted": true,
        "_uuid": "a790598a8f62d62442cc300a3498f63dc13584d1",
        "collapsed": true
      },
      "cell_type": "code",
      "source": "# creating a variable indicating family size (including the passenger)\n# sums siblings and parents\n\ntrain['Family_size'] = train['SibSp']+train['Parch']+1\ntest['Family_size'] = test['SibSp']+test['Parch']+1\n\nprint(train.Family_size.value_counts()/ np.float(len(train)))\n\n(train.Family_size.value_counts() / np.float(len(train))).plot.bar()",
      "execution_count": 156,
      "outputs": []
    },
    {
      "metadata": {
        "trusted": true,
        "collapsed": true,
        "_uuid": "d14c054dddcbe5fac309a1c8d5eb9c439a36e960"
      },
      "cell_type": "markdown",
      "source": "* **Family size greater than 7 is considered a rare value.**"
    },
    {
      "metadata": {
        "trusted": true,
        "_uuid": "d83b110e6fba0345ebaff73269b9ecfe74f61e35",
        "collapsed": true
      },
      "cell_type": "code",
      "source": "train.Age.isnull().sum()",
      "execution_count": 157,
      "outputs": []
    },
    {
      "metadata": {
        "trusted": true,
        "_uuid": "c31e5609d0868e4ec68a43b0d8dcb90b4e7b38ff",
        "collapsed": true
      },
      "cell_type": "code",
      "source": "# variable indicating if passenger was a mother\n\n#train['is_mother'] = np.where((train.Sex =='female')&(train.Parch>=1)&(train.Age.fillna(0)>18),1,0)\n",
      "execution_count": 366,
      "outputs": []
    },
    {
      "metadata": {
        "trusted": true,
        "collapsed": true,
        "_uuid": "8d73eb2e5bb3f6a8f5340de729aa7a46cb446054"
      },
      "cell_type": "code",
      "source": "#test['is_mother'] = np.where((test.Sex =='female')&(test.Parch>=1)&(test.Age>18),1,0)\n\n",
      "execution_count": 268,
      "outputs": []
    },
    {
      "metadata": {
        "trusted": true,
        "_uuid": "6873b1a8edd369a9a11a62ad9a67c62d76b0b5c7",
        "collapsed": true
      },
      "cell_type": "code",
      "source": "#train[['Sex', 'Parch', 'Age', 'is_mother']].head()",
      "execution_count": 269,
      "outputs": []
    },
    {
      "metadata": {
        "trusted": true,
        "_uuid": "4a77650f195601453fb0c3f4ab8aae9040ad1d56",
        "collapsed": true
      },
      "cell_type": "code",
      "source": "#print('there were {} mothers in the Titanic'.format(train.is_mother.sum()))",
      "execution_count": 270,
      "outputs": []
    },
    {
      "metadata": {
        "trusted": true,
        "_uuid": "fb9577e939d44be6d27a5e1710bb88adc3d942d8",
        "collapsed": true
      },
      "cell_type": "code",
      "source": "#train.is_mother.head(10)",
      "execution_count": 271,
      "outputs": []
    },
    {
      "metadata": {
        "trusted": true,
        "collapsed": true,
        "_uuid": "16bdb6638f73192a7959228b8cb924fecb679664"
      },
      "cell_type": "markdown",
      "source": "### New Numerical variables missing values"
    },
    {
      "metadata": {
        "trusted": true,
        "_uuid": "dce8bffe31c0654dcee2d8d6b5ebeb7c6dbbab4f",
        "collapsed": true
      },
      "cell_type": "code",
      "source": "#train[['Cabin_numerical', 'Ticket_numerical', 'is_mother', 'Family_size']].isnull().mean()",
      "execution_count": 272,
      "outputs": []
    },
    {
      "metadata": {
        "trusted": true,
        "collapsed": true,
        "_uuid": "332bebeb6aed748c11d2ef4caf2766b3aa7637e4"
      },
      "cell_type": "markdown",
      "source": "### **New Numerical variables outliers**"
    },
    {
      "metadata": {
        "trusted": true,
        "_uuid": "94921495bdd154d0c97024a367d991502fc3a9e0",
        "collapsed": true
      },
      "cell_type": "code",
      "source": "# first we plot the distributions to find out if they are Gaussian or skewed.\n# Depending on the distribution, we will use the normal assummption or the interquantile\n# range to find outliers\n\nplt.figure(figsize=(15,6))\nplt.subplot(1, 2, 1)\nfig = train.Cabin_numerical.hist(bins=50)\nfig.set_ylabel('Number of passengers')\nfig.set_xlabel('Cabin number')\n\nplt.subplot(1, 2, 2)\nfig = train.Ticket_numerical.hist(bins=50)\nfig.set_ylabel('Number of passengers')\nfig.set_xlabel('Ticket number')",
      "execution_count": 158,
      "outputs": []
    },
    {
      "metadata": {
        "trusted": true,
        "_uuid": "232e0f998d480fade569237cf84902b5cb5488fa",
        "collapsed": true
      },
      "cell_type": "code",
      "source": "# let's visualise outliers with the boxplot and whiskers\nplt.figure(figsize=(15,6))\nplt.subplot(1, 2, 1)\nfig = train.boxplot(column='Cabin_numerical')\nfig.set_title('')\nfig.set_ylabel('Cabin number')\n\nplt.subplot(1, 2, 2)\nfig = train.boxplot(column='Ticket_numerical')\nfig.set_title('')\nfig.set_ylabel('Ticket number')",
      "execution_count": 159,
      "outputs": []
    },
    {
      "metadata": {
        "_uuid": "52cd657ef473593d42305b583f829d7d237d1f79"
      },
      "cell_type": "markdown",
      "source": "* **Cabin_numerical doesn't contain outliers.**"
    },
    {
      "metadata": {
        "trusted": true,
        "_uuid": "5ae3d2eb3d7b4ab42fd18863a17b7cb4575e5d0b",
        "collapsed": true
      },
      "cell_type": "code",
      "source": "# Ticket numerical\nIQR = train.Ticket_numerical.quantile(0.75) - train.Ticket_numerical.quantile(0.25)\nLower_bound = train.Ticket_numerical.quantile(0.25) - (IQR * 3)\nUpper_bound = train.Ticket_numerical.quantile(0.75) + (IQR * 3)\nprint('Ticket number outliers are values < {lowerboundary} or > {upperboundary}'.format(lowerboundary=Lower_bound, upperboundary=Upper_bound))\npassengers = len(train[train.Ticket_numerical>Upper_bound]) / np.float(len(train))\nprint('Number of passengers with ticket values higher than {upperboundary}: {passengers}'.format(upperboundary=Upper_bound,passengers=passengers))\n                                                                                                 ",
      "execution_count": 160,
      "outputs": []
    },
    {
      "metadata": {
        "_uuid": "356c620513266613af43e6cafef814785ddc415e"
      },
      "cell_type": "markdown",
      "source": "### New categorical vaiable missing values"
    },
    {
      "metadata": {
        "trusted": true,
        "_uuid": "c0f29fad0ff55c6eb4076687a5a8b690ddf48043",
        "collapsed": true
      },
      "cell_type": "code",
      "source": "train[['Cabin_categorical', 'Ticket_categorical', 'Title']].isnull().mean()",
      "execution_count": 161,
      "outputs": []
    },
    {
      "metadata": {
        "trusted": true,
        "collapsed": true,
        "_uuid": "8a60bb551a3aab87c115c1a8eb2fe707c176f6af"
      },
      "cell_type": "markdown",
      "source": "* **Ticket_categorical,Title variables doesn't contain missing values.**"
    },
    {
      "metadata": {
        "trusted": true,
        "collapsed": true,
        "_uuid": "8fc848961994063fe82eb5eafa8a3baf722ba516"
      },
      "cell_type": "markdown",
      "source": "### New categorical vaiable cardinality and rare labels"
    },
    {
      "metadata": {
        "trusted": true,
        "_uuid": "6883d13bd0627b0c5333c2b5defb78c4a2aac698",
        "collapsed": true
      },
      "cell_type": "code",
      "source": "for var in ['Cabin_categorical', 'Ticket_categorical', 'Title']:\n    print(var, ' contains ', len(train[var].unique()), ' labels')",
      "execution_count": 162,
      "outputs": []
    },
    {
      "metadata": {
        "trusted": true,
        "_uuid": "ebc0c6791941f0747f22d8bbac538413620d57a5",
        "collapsed": true
      },
      "cell_type": "code",
      "source": "# rare / unfrequent labels (less than 1% of passengers)\nfor var in ['Cabin_categorical', 'Ticket_categorical', 'Title']:\n    print(train[var].value_counts() / np.float(len(train)))\n    print()",
      "execution_count": 163,
      "outputs": []
    },
    {
      "metadata": {
        "trusted": true,
        "collapsed": true,
        "_uuid": "6f46bbe536fdc770c607a7a6c6fcbe8770fcb82a"
      },
      "cell_type": "markdown",
      "source": "* **Cabin contains the rare labels G and T: replace by most frequent category**\n* **Ticket contains a lot of unfrequent labels: replace by rare**\n* **Title does not contain rare labels**\n\n**Number of passengers in the rare cabins is so small, grouping them into a new category called rare, will be in itself rare. In cabin, I will replace rare labels by the most frequent category.\nIn ticket_categorical, on the other hand, the number of unfrequent labels is high, therefore grouping them into a new label . **"
    },
    {
      "metadata": {
        "trusted": true,
        "_uuid": "6ef5961ac0fafdf015c8fddde746edabe4fca4cb",
        "collapsed": true
      },
      "cell_type": "code",
      "source": "# Let's split the train data into train and validation data\n\nX_train, X_val, y_train, y_val = train_test_split(train, train.Survived, test_size=0.2,\n                                                    random_state=0)\nX_train.shape, X_val.shape",
      "execution_count": 164,
      "outputs": []
    },
    {
      "metadata": {
        "trusted": true,
        "collapsed": true,
        "_uuid": "73aed06545277f3b2310304975781ed91876c766"
      },
      "cell_type": "code",
      "source": "# let's group again the variables into categorical or numerical\n# now considering the newly created variables\n\ndef find_categorical_and_numerical_variables(dataframe):\n    cat_vars = [col for col in train.columns if train[col].dtypes == 'O']\n    num_vars  = [col for col in train.columns if train[col].dtypes != 'O']\n    return cat_vars, num_vars\n                 \ncategorical, numerical = find_categorical_and_numerical_variables(train)",
      "execution_count": 165,
      "outputs": []
    },
    {
      "metadata": {
        "trusted": true,
        "_uuid": "276c2d4832a03d318c3d5c681b7fbd18ff037983",
        "collapsed": true
      },
      "cell_type": "code",
      "source": "categorical",
      "execution_count": 166,
      "outputs": []
    },
    {
      "metadata": {
        "trusted": true,
        "_uuid": "0a391fba35e5b208c8e22774791d151cc4d1fda8",
        "collapsed": true
      },
      "cell_type": "code",
      "source": "numerical = [var for var in numerical if var not in ['Survived','PassengerId']]\nnumerical",
      "execution_count": 167,
      "outputs": []
    },
    {
      "metadata": {
        "trusted": true,
        "collapsed": true,
        "_uuid": "e6ba56bc0beb77529fa9b533daa0c236b76c8fdc"
      },
      "cell_type": "markdown",
      "source": "## Engineering Missing values in  numerical variables"
    },
    {
      "metadata": {
        "trusted": true,
        "_uuid": "7595771898956f8bab70024b6cc0aef84506b255",
        "collapsed": true
      },
      "cell_type": "code",
      "source": "# print variables with missing data\nfor col in numerical:\n    if X_train[col].isnull().mean()>0:\n        print(col, X_train[col].isnull().mean())",
      "execution_count": 168,
      "outputs": []
    },
    {
      "metadata": {
        "_uuid": "ec4e626a971fd0c4f6f1228f058e95cbda6d6ed6"
      },
      "cell_type": "markdown",
      "source": "* **Age and ticket contains < 50% NA: create additional variable with NA + random sample imputation**\n* **Cabin_numerical contains > 50% NA: impute NA by value far in the distribution**"
    },
    {
      "metadata": {
        "trusted": true,
        "collapsed": true,
        "_uuid": "08c4f73292b8b910298274a62912d6430dde5302"
      },
      "cell_type": "code",
      "source": "# Function to perform random imputation of mising values\ndef impute_na(X_train, df, variable):\n    # make temporary df copy\n    temp = df.copy()\n    \n    # extract random from train set to fill the na\n    random_sample = X_train[variable].dropna().sample(temp[variable].isnull().sum(), random_state=0)\n    \n    # pandas needs to have the same index in order to merge datasets\n    random_sample.index = temp[temp[variable].isnull()].index\n    temp.loc[temp[variable].isnull(), variable] = random_sample\n    return temp[variable]",
      "execution_count": 169,
      "outputs": []
    },
    {
      "metadata": {
        "trusted": true,
        "_uuid": "6f6d4f272c68cf36f45b3e4aa6a2aab01731912d",
        "collapsed": true
      },
      "cell_type": "code",
      "source": "# Age and ticket\n# add variable indicating missingness\nfor df in [X_train, X_val, test]:\n    for var in ['Age', 'Ticket_numerical']:\n        df[var+'_NA'] = np.where(df[var].isnull(), 1, 0)\n    \n# replace by random sampling\nfor df in [X_train, X_val, test]:\n    for var in ['Age', 'Ticket_numerical']:\n        df[var] = impute_na(X_train, df, var)\n    \n\n# Cabin numerical\nextreme = X_train.Cabin_numerical.mean() + X_train.Cabin_numerical.std()*3\nfor df in [X_train, X_val, test]:\n    df.Cabin_numerical.fillna(extreme, inplace=True)",
      "execution_count": 170,
      "outputs": []
    },
    {
      "metadata": {
        "trusted": true,
        "_uuid": "3a06ce3049919f6b8bb037ce88704e5cb9f212c4",
        "collapsed": true
      },
      "cell_type": "code",
      "source": "test.isnull().sum()",
      "execution_count": 171,
      "outputs": []
    },
    {
      "metadata": {
        "trusted": true,
        "_uuid": "61794623dbf704966be02d12b49a5c28db0d8c33",
        "collapsed": true
      },
      "cell_type": "code",
      "source": "\nfor df in [X_train, X_val, test]:\n    list_is_mother=[]\n    for i in range(df.shape[0]):\n        if (df['Sex'].iloc[i] =='female')&(df['Parch'].iloc[i] >=1)&(df['Age'].iloc[i]>18):\n            list_is_mother.append(1)\n        else:\n            list_is_mother.append(0)\n    list_is_mother=pd.Series(list_is_mother)  \n    list_is_mother.index=df.index\n    df['is_mother']=list_is_mother    \n    #df['is_mother'] = pd.Series(np.where((df.Sex =='female')&(df.Parch>=1)&(df.Age>18),1,0))",
      "execution_count": 172,
      "outputs": []
    },
    {
      "metadata": {
        "trusted": true,
        "collapsed": true,
        "_uuid": "f8f70b51696af55147bde5605c5f91369a479371"
      },
      "cell_type": "markdown",
      "source": "## Engineering Missing values in categorical variables"
    },
    {
      "metadata": {
        "trusted": true,
        "_uuid": "ffaa2558b265724b160f5ba29539290ae0c225d2",
        "collapsed": true
      },
      "cell_type": "code",
      "source": "# print variables with missing data\nfor col in categorical:\n    if X_train[col].isnull().mean()>0:\n        print(col, X_train[col].isnull().mean())",
      "execution_count": 173,
      "outputs": []
    },
    {
      "metadata": {
        "trusted": true,
        "collapsed": true,
        "_uuid": "1ca7553adb8664df6f8f77608cdb1e78ea9e617c"
      },
      "cell_type": "markdown",
      "source": "* **Embarked NA imputed by most frequent category, because NA is low**\n* **Cabin_categorical imputed by 'Missing', because NA is high**"
    },
    {
      "metadata": {
        "trusted": true,
        "collapsed": true,
        "_uuid": "79290a9a6e2ebfafc8d05fdb2e4f51de188321a4"
      },
      "cell_type": "code",
      "source": "# add label indicating 'Missing' to Cabin categorical\n# or replace by most frequent label in Embarked\n\nfor df in [X_train, X_val, test]:\n    df['Embarked'].fillna(X_train['Embarked'].mode()[0], inplace=True)\n    df['Cabin_categorical'].fillna('Missing', inplace=True)",
      "execution_count": 174,
      "outputs": []
    },
    {
      "metadata": {
        "trusted": true,
        "_uuid": "f63da12651075f0cb6051e1bcc16bf80b3eba56f",
        "collapsed": true
      },
      "cell_type": "code",
      "source": "# checking for null values\nX_train.isnull().sum()",
      "execution_count": 175,
      "outputs": []
    },
    {
      "metadata": {
        "trusted": true,
        "_uuid": "167dca171c6e5cccd0650b15affb6e0a37ffd64a",
        "collapsed": true
      },
      "cell_type": "code",
      "source": "X_val.isnull().sum()",
      "execution_count": 176,
      "outputs": []
    },
    {
      "metadata": {
        "trusted": true,
        "_uuid": "27dfd4500127ab13d55f687db902e01b581aef17",
        "collapsed": true
      },
      "cell_type": "code",
      "source": "test.isnull().sum()",
      "execution_count": 177,
      "outputs": []
    },
    {
      "metadata": {
        "trusted": true,
        "_uuid": "db7c8956f57660b3f3802b81d9287a6b56a905cc",
        "collapsed": true
      },
      "cell_type": "code",
      "source": "# Fare missing value in test set is replaced by median value of the train set X_train\ntest.Fare.fillna(X_train.Fare.median(),inplace=True)",
      "execution_count": 178,
      "outputs": []
    },
    {
      "metadata": {
        "trusted": true,
        "_uuid": "65b5dfc8db89606b9751fd1088a33571a9983ec1",
        "collapsed": true
      },
      "cell_type": "code",
      "source": "test.isnull().sum()",
      "execution_count": 108,
      "outputs": []
    },
    {
      "metadata": {
        "trusted": true,
        "collapsed": true,
        "_uuid": "e6523ea52e65be97cb6a6d0561d7adc765c1bc40"
      },
      "cell_type": "markdown",
      "source": "## Outliers in Numerical variables "
    },
    {
      "metadata": {
        "trusted": true,
        "collapsed": true,
        "_uuid": "bc54d1ef8557807d58879ccd88fdd65eb0fae377"
      },
      "cell_type": "markdown",
      "source": "### From the above analysis of the outliers the following measure are taken to correct the outliers\n* **Age: top-coding (73)**\n* **Fare: equal frequency binning**\n* **Sibsp: top-coding (4)**\n* **Parch: top-coding (2)**\n* **Family Size: top-coding (7)**\n* **Ticket_number: equal frequency binning**"
    },
    {
      "metadata": {
        "trusted": true,
        "collapsed": true,
        "_uuid": "0808c01683f76b4f7b5bb994b4bf641f85b588a3"
      },
      "cell_type": "code",
      "source": "def top_code(df, variable, top):\n    return np.where(df[variable]>top, top, df[variable])\n\nfor df in [X_train, X_val,test]:\n    df['Age'] = top_code(df, 'Age', 73)\n    df['SibSp'] = top_code(df, 'SibSp', 4)\n    df['Parch'] = top_code(df, 'Parch', 2)\n    df['Family_size'] = top_code(df, 'Family_size', 7)",
      "execution_count": 179,
      "outputs": []
    },
    {
      "metadata": {
        "trusted": true,
        "_uuid": "e80f69462f441540582134894cfcf3cccd27bed1",
        "collapsed": true
      },
      "cell_type": "code",
      "source": "# let's check that it worked\nfor var in ['Age',  'SibSp', 'Parch', 'Family_size']:\n    print(var, ' max value: ', X_train[var].max())",
      "execution_count": 180,
      "outputs": []
    },
    {
      "metadata": {
        "trusted": true,
        "_uuid": "7ef064b42a4e700f6aeb4678746a5f3f3dcf23e7",
        "collapsed": true
      },
      "cell_type": "code",
      "source": "# let's check that it worked\nfor var in ['Age',  'SibSp', 'Parch', 'Family_size']:\n    print(var, ' max value: ', test[var].max())",
      "execution_count": 181,
      "outputs": []
    },
    {
      "metadata": {
        "trusted": true,
        "_uuid": "ab8f8ca6ab1c263815da97454d84e56b37a9a4b4",
        "collapsed": true
      },
      "cell_type": "code",
      "source": "# Discretizing Fare variables to correct outliers by equal frequency discretization(quantiles)\n\n# find quantiles and discretise train set\nX_train['Fare'], bins = pd.qcut(x=X_train['Fare'], q=8, retbins=True, precision=3, duplicates='raise')\nX_val['Fare'] = pd.cut(x = X_val['Fare'], bins=bins, include_lowest=True)\ntest['Fare'] = pd.cut(x = test['Fare'], bins=bins, include_lowest=True)",
      "execution_count": 182,
      "outputs": []
    },
    {
      "metadata": {
        "trusted": true,
        "_uuid": "95dc1b1d0847a661255affb31c6dd00b5f67fa84",
        "collapsed": true
      },
      "cell_type": "code",
      "source": "test.Fare.isnull().sum()",
      "execution_count": 183,
      "outputs": []
    },
    {
      "metadata": {
        "trusted": true,
        "_uuid": "9330f1d80efa434d5f035ae52dc518f70a15ddb2",
        "collapsed": true
      },
      "cell_type": "code",
      "source": "t1 = X_train.groupby(['Fare'])['Fare'].count() / np.float(len(X_train))\nt2 = X_val.groupby(['Fare'])['Fare'].count() / np.float(len(X_val))\nt3 = test.groupby(['Fare'])['Fare'].count() / np.float(len(test))\n\ntemp = pd.concat([t1,t2,t3], axis=1)\ntemp.columns = ['train', 'val', 'test']\ntemp.plot.bar(figsize=(12,6))",
      "execution_count": 184,
      "outputs": []
    },
    {
      "metadata": {
        "trusted": true,
        "_uuid": "0a62b5b49a48e5597f5bac50570959a857815902",
        "collapsed": true
      },
      "cell_type": "code",
      "source": "# Discretizing Ticket_numerical variable to correct outliers by equal frequency discretization(quantiles)\n# find quantiles and discretise train set\nX_train['Ticket_numerical'], bins = pd.qcut(x=X_train['Ticket_numerical'], q=8, retbins=True, precision=3, duplicates='raise')\nX_val['Ticket_numerical'] = pd.cut(x = X_val['Ticket_numerical'], bins=bins, include_lowest=True)\ntest['Ticket_numerical_temp'] = pd.cut(x = test['Ticket_numerical'], bins=bins, include_lowest=True)",
      "execution_count": 185,
      "outputs": []
    },
    {
      "metadata": {
        "trusted": true,
        "_uuid": "e4bdbb9f3b653da0935ae469050ae676df4df1e7",
        "collapsed": true
      },
      "cell_type": "code",
      "source": "X_val.Ticket_numerical.isnull().sum()",
      "execution_count": 186,
      "outputs": []
    },
    {
      "metadata": {
        "trusted": true,
        "_uuid": "ee46052bed434d4ea3a24d9adc667018c3832059",
        "collapsed": true
      },
      "cell_type": "code",
      "source": "test.Ticket_numerical_temp.isnull().sum()",
      "execution_count": 187,
      "outputs": []
    },
    {
      "metadata": {
        "trusted": true,
        "_uuid": "0acdfb649287069c66056be3bb82736bd42018db",
        "collapsed": true
      },
      "cell_type": "code",
      "source": "test[test.Ticket_numerical_temp.isnull()][['Ticket_numerical', 'Ticket_numerical_temp']]",
      "execution_count": 188,
      "outputs": []
    },
    {
      "metadata": {
        "_uuid": "1e2e04549086442603f8c1b32656210a2d9674ab"
      },
      "cell_type": "markdown",
      "source": "* Value of 2 above is less than the minimum lower bound of the bins. The minimum lower bound of the bins is 2.99. so we will place these above two rows into the bins that starts with 2.99"
    },
    {
      "metadata": {
        "trusted": true,
        "_uuid": "266e39ae3ac1c69364569a5a3980afa45c8dae09",
        "collapsed": true
      },
      "cell_type": "code",
      "source": "test.loc[test.Ticket_numerical_temp.isnull(), 'Ticket_numerical_temp'] = X_train.Ticket_numerical.unique()[0]\ntest.Ticket_numerical_temp.isnull().sum()",
      "execution_count": 189,
      "outputs": []
    },
    {
      "metadata": {
        "trusted": true,
        "_uuid": "7bbe2208f96c6f0dbb9f551705b2e6a9c40c6b26",
        "collapsed": true
      },
      "cell_type": "code",
      "source": "test['Ticket_numerical'] = test['Ticket_numerical_temp']\ntest.drop(labels=['Ticket_numerical_temp'], inplace=True, axis=1)\ntest.head()",
      "execution_count": 190,
      "outputs": []
    },
    {
      "metadata": {
        "_uuid": "8ce8423037488538a8fe83902d5a4434d8fb1469"
      },
      "cell_type": "markdown",
      "source": "## Engineering rare labels in categorical variables "
    },
    {
      "metadata": {
        "trusted": true,
        "_uuid": "c41d362f5600a15f7c038fbc98bc8b5b3d3ffb29",
        "collapsed": true
      },
      "cell_type": "code",
      "source": "# find percent of labels in categorical variables\nfor var in categorical:\n    print(var, X_train[var].value_counts()/np.float(len(X_train)))\n    print()",
      "execution_count": 191,
      "outputs": []
    },
    {
      "metadata": {
        "trusted": true,
        "collapsed": true,
        "_uuid": "1854063865c24554b2e0d41ba2677420211ae81c"
      },
      "cell_type": "markdown",
      "source": "* Labels with (<1%) are taken as rare labels\n* Cabin contains the rare labels G and T: replace by most frequent category\n* Ticket contains a lot of unfrequent labels: replace by rare\n* rare cabins is so small, grouping them into a new category called rare. Thus, in cabin, I will replace rare labels by the most frequent category. In ticket_categorical,  grouping them into a new label."
    },
    {
      "metadata": {
        "trusted": true,
        "collapsed": true,
        "_uuid": "9acd910fec418b82f66f07ee38514c0bdb0511b8"
      },
      "cell_type": "code",
      "source": "def rare_imputation(variable, which='rare'):    \n    # find frequent labels\n    temp = X_train.groupby([variable])[variable].count()/np.float(len(X_train))\n    frequent_cat = [x for x in temp.loc[temp>0.01].index.values]\n    \n    # create new variables, with Rare labels imputed\n    if which=='frequent':\n        # most frequent category\n        mode_label = X_train.groupby(variable)[variable].count().sort_values().tail(1).index.values[0]\n        X_train[variable] = np.where(X_train[variable].isin(frequent_cat), X_train[variable], mode_label)\n        X_val[variable] = np.where(X_val[variable].isin(frequent_cat), X_val[variable], mode_label)\n        test[variable] = np.where(test[variable].isin(frequent_cat), test[variable], mode_label)\n    \n    else:\n        X_train[variable] = np.where(X_train[variable].isin(frequent_cat), X_train[variable], 'Rare')\n        X_val[variable] = np.where(X_val[variable].isin(frequent_cat), X_val[variable], 'Rare')\n        test[variable] = np.where(test[variable].isin(frequent_cat), test[variable], 'Rare')",
      "execution_count": 192,
      "outputs": []
    },
    {
      "metadata": {
        "trusted": true,
        "collapsed": true,
        "_uuid": "4da619530b998916908d0bf8e6cb30404cd6a1c8"
      },
      "cell_type": "code",
      "source": "rare_imputation('Cabin_categorical', 'frequent')\nrare_imputation('Ticket_categorical', 'rare')",
      "execution_count": 193,
      "outputs": []
    },
    {
      "metadata": {
        "trusted": true,
        "_uuid": "bab81d98690fcf48609433fa6a9b8464038a8576",
        "collapsed": true
      },
      "cell_type": "code",
      "source": "# checking for train data\nfor var in categorical:\n    print(var, X_train[var].value_counts()/np.float(len(X_train)))\n    print()",
      "execution_count": 194,
      "outputs": []
    },
    {
      "metadata": {
        "trusted": true,
        "_uuid": "d3c225183b87bfd95fece2dc839fe95a64654fa2",
        "collapsed": true
      },
      "cell_type": "code",
      "source": "# checking for testa data\nfor var in categorical:\n    print(var, test[var].value_counts()/np.float(len(test)))\n    print()",
      "execution_count": 195,
      "outputs": []
    },
    {
      "metadata": {
        "_uuid": "fc172b0e23fc575abaaa68798db46dbaf124937d"
      },
      "cell_type": "markdown",
      "source": "## Encode categorical variables"
    },
    {
      "metadata": {
        "_uuid": "b1f9d436c816782f2446088ac34c70afd16137dd"
      },
      "cell_type": "markdown",
      "source": "* Sex variable is one hot encoded\n* Remaining variables are encoded by risk probability"
    },
    {
      "metadata": {
        "trusted": true,
        "_uuid": "98e4a95a8b7f22b665ea8856c8f1456e9e6b2be2",
        "collapsed": true
      },
      "cell_type": "code",
      "source": "categorical",
      "execution_count": 196,
      "outputs": []
    },
    {
      "metadata": {
        "trusted": true,
        "collapsed": true,
        "_uuid": "c6ad31039bc9e78ffc65433640eac63d5449b28f"
      },
      "cell_type": "code",
      "source": "for df in [X_train, X_val, test]:\n    df['Sex']  = pd.get_dummies(df.Sex, drop_first=True)",
      "execution_count": 197,
      "outputs": []
    },
    {
      "metadata": {
        "trusted": true,
        "_uuid": "b276ecbcce640fb88b7f38f1f07bc204d6f9894a",
        "collapsed": true
      },
      "cell_type": "code",
      "source": "X_train.Sex.unique()",
      "execution_count": 198,
      "outputs": []
    },
    {
      "metadata": {
        "trusted": true,
        "_uuid": "e8c957631104d6b9e90f6aab4251d225aa014219",
        "collapsed": true
      },
      "cell_type": "code",
      "source": "test.Sex.unique()",
      "execution_count": 69,
      "outputs": []
    },
    {
      "metadata": {
        "trusted": true,
        "_uuid": "d24b5e004446f069af447d95c1138fd3142fb31c",
        "collapsed": true
      },
      "cell_type": "code",
      "source": "X_train.groupby(['Embarked'])['Survived'].mean()\n",
      "execution_count": 199,
      "outputs": []
    },
    {
      "metadata": {
        "trusted": true,
        "collapsed": true,
        "_uuid": "248b1ec56d81d5a217afc4d98bd8cd6062aa7781"
      },
      "cell_type": "code",
      "source": "def encode_categorical_variables(var, target):\n        # make label to risk dictionary\n        ordered_labels = X_train.groupby([var])[target].mean().to_dict()\n        \n        # encode variables\n        X_train[var] = X_train[var].map(ordered_labels)\n        X_val[var] = X_val[var].map(ordered_labels)\n        test[var] = test[var].map(ordered_labels)\n\n# enccode labels in categorical vars\nfor var in categorical:\n    encode_categorical_variables(var, 'Survived')",
      "execution_count": 200,
      "outputs": []
    },
    {
      "metadata": {
        "trusted": true,
        "_uuid": "6f5442d9b35f1127ffab5bb6befa130a5fe3edd1",
        "collapsed": true
      },
      "cell_type": "code",
      "source": "test.Embarked.head()",
      "execution_count": 201,
      "outputs": []
    },
    {
      "metadata": {
        "trusted": true,
        "_uuid": "35150b58e2cc1d11945137fd188db4204f319a83",
        "collapsed": true
      },
      "cell_type": "code",
      "source": "X_val.Embarked.isnull().sum()",
      "execution_count": 202,
      "outputs": []
    },
    {
      "metadata": {
        "trusted": true,
        "collapsed": true,
        "_uuid": "be07bcc6feb6c2e86ecf12d096ec0de66376533c"
      },
      "cell_type": "code",
      "source": "# parse discretised variables to object before encoding\nfor df in [X_train, X_val, test]:\n    df.Fare = df.Fare.astype('O')\n    df.Ticket_numerical = df.Ticket_numerical.astype('O')",
      "execution_count": 203,
      "outputs": []
    },
    {
      "metadata": {
        "trusted": true,
        "_uuid": "e26a35acf20ed0d2c1d6e16b72dc6bbcd0c1a7ba",
        "collapsed": true
      },
      "cell_type": "code",
      "source": "# encode labels\nfor var in ['Fare', 'Ticket_numerical']:\n    print(var)\n    encode_categorical_variables(var, 'Survived')",
      "execution_count": 204,
      "outputs": []
    },
    {
      "metadata": {
        "trusted": true,
        "_uuid": "46f612381fdd0897ce096b0c762f95413eb407b8",
        "collapsed": true
      },
      "cell_type": "code",
      "source": "test.head()",
      "execution_count": 205,
      "outputs": []
    },
    {
      "metadata": {
        "trusted": true,
        "_uuid": "27aea1a5a6d2794ad972565cad5699979ca1a83a",
        "collapsed": true
      },
      "cell_type": "code",
      "source": "# Converting the float64 dtypes to float32\nxg_test=test\nxg_X_train=X_train\nxg_X_val=X_val\nfor df in [xg_X_train,xg_X_val,xg_test]:\n    for c, dtype in zip(df.columns, df.dtypes):\n        if dtype == np.float64:\n            df[c] = df[c].astype(np.float32)",
      "execution_count": 207,
      "outputs": []
    },
    {
      "metadata": {
        "trusted": true,
        "_uuid": "291d52513a28945c715a1ab40af4413fe0649ab6",
        "collapsed": true
      },
      "cell_type": "code",
      "source": "xg_test.info()",
      "execution_count": 216,
      "outputs": []
    },
    {
      "metadata": {
        "trusted": true,
        "_uuid": "d7fed7b1683ea9a2e5ab86d5a7335f7696f7ff8b",
        "collapsed": true
      },
      "cell_type": "code",
      "source": "X_val.info()",
      "execution_count": 226,
      "outputs": []
    },
    {
      "metadata": {
        "trusted": true,
        "collapsed": true,
        "_uuid": "e7245aacd41cec52649ecdeaf222f0a23270004c"
      },
      "cell_type": "markdown",
      "source": "## Feature Scaling"
    },
    {
      "metadata": {
        "trusted": true,
        "collapsed": true,
        "_uuid": "ae04441019683c378dba0f7ef8e05ee640b2527a"
      },
      "cell_type": "code",
      "source": "variables_that_need_scaling = ['Pclass', 'Age', 'Sibsp', 'Parch', 'Cabin_numerical', 'Family_size']",
      "execution_count": 217,
      "outputs": []
    },
    {
      "metadata": {
        "trusted": true,
        "_uuid": "b57df656ff5c28b4c2b9bb50ea9e0e6b0faf8d8b",
        "collapsed": true
      },
      "cell_type": "code",
      "source": "training_vars = [var for var in X_train.columns if var not in ['PassengerId', 'Survived']]\ntraining_vars",
      "execution_count": 218,
      "outputs": []
    },
    {
      "metadata": {
        "trusted": true,
        "_uuid": "be84c58facf70f5d73095dd1a125b4b0be2f5eae",
        "collapsed": true
      },
      "cell_type": "code",
      "source": "# fit scaler\nscaler = MinMaxScaler() # create an instance\n #  fit  the scaler to the train set and then transform it\nscaler.fit(X_train[training_vars])",
      "execution_count": 236,
      "outputs": []
    },
    {
      "metadata": {
        "trusted": true,
        "_uuid": "4e7fa4961e3f84a017eefd6e11137c9be268dd00",
        "collapsed": true
      },
      "cell_type": "code",
      "source": "X_train.Cabin_numerical.head()",
      "execution_count": 222,
      "outputs": []
    },
    {
      "metadata": {
        "trusted": true,
        "_uuid": "4e598b7939b34d5db8ebe61d862d7b109d6b77cd",
        "collapsed": true
      },
      "cell_type": "code",
      "source": "# xgBoost model\nxgb_model = xgb.XGBClassifier()\n\neval_set = [(xg_X_val[training_vars], y_val)]\nxgb_model.fit(xg_X_train[training_vars], y_train, eval_metric=\"auc\", eval_set=eval_set, verbose=False)\n\npred = xgb_model.predict_proba(xg_X_train[training_vars])\nprint('xgb train roc-auc: {}'.format(roc_auc_score(y_train, pred[:,1])))\npred = xgb_model.predict_proba(xg_X_val[training_vars])\nprint('xgb test roc-auc: {}'.format(roc_auc_score(y_val, pred[:,1])))",
      "execution_count": 231,
      "outputs": []
    },
    {
      "metadata": {
        "trusted": true,
        "_uuid": "0e906faf777bffd31274a92251e915b025f3cca6",
        "collapsed": true
      },
      "cell_type": "code",
      "source": "pred.dtype",
      "execution_count": 232,
      "outputs": []
    },
    {
      "metadata": {
        "trusted": true,
        "_uuid": "ae44381d55d3fb6a4839bdfc46a9704a4eb0ba8a",
        "collapsed": true
      },
      "cell_type": "code",
      "source": "# Random forests model\n\nrf_model = RandomForestClassifier()\nrf_model.fit(X_train[training_vars], y_train)\n\npred = rf_model.predict_proba(X_train[training_vars])\nprint('RF train roc-auc: {}'.format(roc_auc_score(y_train, pred[:,1])))\npred = rf_model.predict_proba(X_val[training_vars])\nprint('RF test roc-auc: {}'.format(roc_auc_score(y_val, pred[:,1])))",
      "execution_count": 233,
      "outputs": []
    },
    {
      "metadata": {
        "trusted": true,
        "_uuid": "d0348dd50d9bf80a6d3451f72617839cf88109bb",
        "collapsed": true
      },
      "cell_type": "code",
      "source": "ada_model = AdaBoostClassifier()\nada_model.fit(X_train[training_vars], y_train)\n\npred = ada_model.predict_proba(X_train[training_vars])\nprint('Adaboost train roc-auc: {}'.format(roc_auc_score(y_train, pred[:,1])))\npred = ada_model.predict_proba(X_val[training_vars])\nprint('Adaboost test roc-auc: {}'.format(roc_auc_score(y_val, pred[:,1])))",
      "execution_count": 234,
      "outputs": []
    },
    {
      "metadata": {
        "trusted": true,
        "_uuid": "4882bd2f6ceb30cb5186c3f91b7ea5232749d918",
        "collapsed": true
      },
      "cell_type": "code",
      "source": "logit_model = LogisticRegression()\nlogit_model.fit(scaler.transform(X_train[training_vars]), y_train)\n\npred = logit_model.predict_proba(scaler.transform(X_train[training_vars]))\nprint('Logit train roc-auc: {}'.format(roc_auc_score(y_train, pred[:,1])))\npred =logit_model.predict_proba(scaler.transform(X_val[training_vars]))\nprint('Logit test roc-auc: {}'.format(roc_auc_score(y_val, pred[:,1])))",
      "execution_count": 237,
      "outputs": []
    },
    {
      "metadata": {
        "trusted": true,
        "_uuid": "551df2a5c5817914cfa13715392e8b57b1c63a3c",
        "collapsed": true
      },
      "cell_type": "code",
      "source": "pred_list = []\nfor model in [xgb_model, rf_model, ada_model, logit_model]:\n    pred_list.append(pd.Series(model.predict_proba(X_val[training_vars])[:,1]))\n\nfinal_pred = pd.concat(pred_list, axis=1).mean(axis=1)\nprint('Ensemble test roc-auc: {}'.format(roc_auc_score(y_val,final_pred)))",
      "execution_count": 238,
      "outputs": []
    },
    {
      "metadata": {
        "trusted": true,
        "_uuid": "d27c5e737e01b8b6a775be676af24f9808693ae6",
        "collapsed": true
      },
      "cell_type": "code",
      "source": "fpr, tpr, thresholds = metrics.roc_curve(y_val, final_pred)\nthresholds",
      "execution_count": 239,
      "outputs": []
    },
    {
      "metadata": {
        "trusted": true,
        "_uuid": "dd750a517340a21138291f6cd7a0e16900fbb6da",
        "collapsed": true
      },
      "cell_type": "code",
      "source": "accuracy_list = []\nfor thres in thresholds:\n    y_pred = np.where(final_pred>thres,1,0)\n    accuracy_list.append(metrics.accuracy_score(y_val, y_pred, normalize=True))\n    \naccuracy_list = pd.concat([pd.Series(thresholds), pd.Series(accuracy_list)],\n                        axis=1)\naccuracy_list.columns = ['thresholds', 'accuracy']\naccuracy_list.sort_values(by='accuracy', ascending=False, inplace=True)\n",
      "execution_count": 240,
      "outputs": []
    },
    {
      "metadata": {
        "trusted": true,
        "_uuid": "42f7bce1d367e33926c092135406ffcb3dd8f622",
        "collapsed": true
      },
      "cell_type": "code",
      "source": "accuracy_list.head()",
      "execution_count": 241,
      "outputs": []
    },
    {
      "metadata": {
        "_uuid": "ed25b136c0afbdf3b0ca36232d8fecf88e7db565"
      },
      "cell_type": "markdown",
      "source": "# Submission to Kaggle"
    },
    {
      "metadata": {
        "trusted": true,
        "_uuid": "415c99144038a8307fb7e33138749f1c392f2f48",
        "collapsed": true
      },
      "cell_type": "code",
      "source": "pred_list = []\n",
      "execution_count": 244,
      "outputs": []
    },
    {
      "metadata": {
        "trusted": true,
        "_uuid": "7dcfe39d02818915971d0fd7d8d69bf44d2e7f68",
        "collapsed": true
      },
      "cell_type": "code",
      "source": "pred_list.append(pd.Series(xgb_model.predict_proba(xg_test[training_vars])[:,1]))",
      "execution_count": 512,
      "outputs": []
    },
    {
      "metadata": {
        "trusted": true,
        "_uuid": "fe5ad77b2ddf0419f01afd4e005d42d35613fd84",
        "collapsed": true
      },
      "cell_type": "code",
      "source": "xg_test.head()",
      "execution_count": 258,
      "outputs": []
    },
    {
      "metadata": {
        "trusted": true,
        "_uuid": "438f435bc31b84e7c88513810756ee8fa8f13ea9",
        "collapsed": true
      },
      "cell_type": "code",
      "source": "xg_test.info()",
      "execution_count": 264,
      "outputs": []
    },
    {
      "metadata": {
        "trusted": true,
        "_uuid": "b4a1c856268bbd7ddd49b6931a459007959b2feb",
        "collapsed": true
      },
      "cell_type": "code",
      "source": "#xgb_model.predict_proba(xg_test[training_vars])[:,1]",
      "execution_count": 261,
      "outputs": []
    },
    {
      "metadata": {
        "trusted": true,
        "collapsed": true,
        "_uuid": "44e2c2314d99ce37e591de271ba4222eb8d15c53"
      },
      "cell_type": "code",
      "source": " pred_list.append(pd.Series(rf_model.predict_proba(test[training_vars])[:,1]))",
      "execution_count": null,
      "outputs": []
    },
    {
      "metadata": {
        "trusted": true,
        "collapsed": true,
        "_uuid": "639668f9cd3c99982f7095e9907ccae198c6bac9"
      },
      "cell_type": "code",
      "source": " pred_list.append(pd.Series(ada_model.predict_proba(test[training_vars])[:,1]))",
      "execution_count": null,
      "outputs": []
    },
    {
      "metadata": {
        "trusted": true,
        "collapsed": true,
        "_uuid": "53b63c84c155cea3dc49a4062a1322af7ec9e087"
      },
      "cell_type": "code",
      "source": " pred_list.append(pd.Series(logit_model.predict_proba(test[training_vars])[:,1]))",
      "execution_count": null,
      "outputs": []
    },
    {
      "metadata": {
        "trusted": true,
        "_uuid": "402e942653bb7b9e70bbcb3c6a742badb544f752",
        "collapsed": true
      },
      "cell_type": "code",
      "source": "#for model in [rf_model, ada_model, logit_model]:\n    #pred_list.append(pd.Series(model.predict_proba(test[training_vars])[:,1]))\n\nfinal_pred = pd.concat(pred_list, axis=1).mean(axis=1)",
      "execution_count": 246,
      "outputs": []
    },
    {
      "metadata": {
        "trusted": true,
        "_uuid": "4d86ab5ed381eefb0ac891964b1014fdbcd936de",
        "collapsed": true
      },
      "cell_type": "code",
      "source": "accuracy_list.iloc[0,0]",
      "execution_count": 247,
      "outputs": []
    },
    {
      "metadata": {
        "trusted": true,
        "_uuid": "fdde85f5626b9b5b153e311acc314f70f8c2a61b",
        "collapsed": true
      },
      "cell_type": "code",
      "source": "list_pred=[]\nfor i in range(final_pred.shape[0]):\n    if final_pred.iloc[i]>accuracy_list.iloc[0,0]:\n        list_pred.append(1)\n    else:\n        list_pred.append(0)\n",
      "execution_count": 248,
      "outputs": []
    },
    {
      "metadata": {
        "trusted": true,
        "collapsed": true,
        "_uuid": "1e97dc6d4593600d580e6b5271235f1d3e7095e8"
      },
      "cell_type": "code",
      "source": "list_pred=pd.Series(list_pred)\n",
      "execution_count": 249,
      "outputs": []
    },
    {
      "metadata": {
        "trusted": true,
        "collapsed": true,
        "_uuid": "be84fd534970315dee3b51fd2aa3999aa322693f"
      },
      "cell_type": "code",
      "source": "list_pred.index=final_pred.index\n",
      "execution_count": 250,
      "outputs": []
    },
    {
      "metadata": {
        "trusted": true,
        "collapsed": true,
        "_uuid": "dc4403fd3bb53a9ce3749f2fe68285513ba8c806"
      },
      "cell_type": "code",
      "source": "final_pred = list_pred",
      "execution_count": 251,
      "outputs": []
    },
    {
      "metadata": {
        "trusted": true,
        "_uuid": "1bb7b580163b97029fdaaf1d0700394cb8505b90",
        "collapsed": true
      },
      "cell_type": "code",
      "source": "final_pred.head()",
      "execution_count": 252,
      "outputs": []
    },
    {
      "metadata": {
        "trusted": true,
        "_uuid": "e9e01f6c561a06443d78acebc6d14c51d2ec46a0",
        "collapsed": true
      },
      "cell_type": "code",
      "source": "temp = pd.concat([test.PassengerId, final_pred], axis=1)\ntemp.columns = ['PassengerId', 'Survived']\ntemp.head()",
      "execution_count": 253,
      "outputs": []
    },
    {
      "metadata": {
        "trusted": true,
        "collapsed": true,
        "_uuid": "f894efe5a28cd9e7a9b7a5b3b38115999eb149a2"
      },
      "cell_type": "code",
      "source": "temp.to_csv('submission.csv', index=False)",
      "execution_count": 254,
      "outputs": []
    },
    {
      "metadata": {
        "_uuid": "f60412a0f1bf1e7cba627801c4ff47a0c228db11"
      },
      "cell_type": "markdown",
      "source": "## Feature Importance "
    },
    {
      "metadata": {
        "trusted": true,
        "_uuid": "7e8b286dc36677917dddc489f0ed4393add5664a",
        "collapsed": true
      },
      "cell_type": "code",
      "source": "importance = pd.Series(rf_model.feature_importances_)\nimportance.index = training_vars\nimportance.sort_values(inplace=True, ascending=False)\nimportance.plot.bar(figsize=(12,6))",
      "execution_count": 255,
      "outputs": []
    },
    {
      "metadata": {
        "trusted": true,
        "_uuid": "ce74dede0f80fb6be7b850887f6cc012f23c9498",
        "collapsed": true
      },
      "cell_type": "code",
      "source": "importance = pd.Series(xgb_model.feature_importances_)\nimportance.index = training_vars\nimportance.sort_values(inplace=True, ascending=False)\nimportance.plot.bar(figsize=(12,6))",
      "execution_count": 256,
      "outputs": []
    },
    {
      "metadata": {
        "trusted": true,
        "_uuid": "f99bd658c73feedc3820db39cfa7a85a223050af",
        "collapsed": true
      },
      "cell_type": "code",
      "source": "importance = pd.Series(np.abs(logit_model.coef_.ravel()))\nimportance.index = training_vars\nimportance.sort_values(inplace=True, ascending=False)\nimportance.plot.bar(figsize=(12,6))",
      "execution_count": 257,
      "outputs": []
    },
    {
      "metadata": {
        "_uuid": "8fdf4b586ef355837e8b38af1e77bfc08727e45f"
      },
      "cell_type": "markdown",
      "source": "##  **Second level of ensemble models should be built based on the above feature importances**"
    },
    {
      "metadata": {
        "trusted": true,
        "collapsed": true,
        "_uuid": "b649a7efdc73b90588ebf3624e90e8fca061a12f"
      },
      "cell_type": "code",
      "source": "",
      "execution_count": null,
      "outputs": []
    },
    {
      "metadata": {
        "trusted": true,
        "collapsed": true,
        "_uuid": "64331efcb94627f98bf12d572a4467b12ab81914"
      },
      "cell_type": "code",
      "source": "",
      "execution_count": null,
      "outputs": []
    }
  ],
  "metadata": {
    "kernelspec": {
      "display_name": "Python 3",
      "language": "python",
      "name": "python3"
    },
    "language_info": {
      "name": "python",
      "version": "3.6.5",
      "mimetype": "text/x-python",
      "codemirror_mode": {
        "name": "ipython",
        "version": 3
      },
      "pygments_lexer": "ipython3",
      "nbconvert_exporter": "python",
      "file_extension": ".py"
    }
  },
  "nbformat": 4,
  "nbformat_minor": 1
}